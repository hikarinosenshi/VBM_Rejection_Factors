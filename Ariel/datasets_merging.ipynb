{
 "cells": [
  {
   "cell_type": "markdown",
   "metadata": {},
   "source": [
    "# Combining all the dataset into one big dataset"
   ]
  },
  {
   "cell_type": "markdown",
   "metadata": {},
   "source": [
    "## Table of Contents\n",
    "\n",
    "* [Load Modules](#loadmodules)\n",
    "* [Load Datasets](#loaddatasets)\n",
    " * [Race Dataset](#racedataset)\n",
    " * [Spoken Language at Home Dataset](#languagedataset)\n",
    " * [Median Earnings Dataset](#earningsdataset)\n",
    "* [Merge Datasets](#mergedatasets)\n",
    " * [Merge](#merge)\n",
    " * [Write CSV File](#writecsv)"
   ]
  },
  {
   "cell_type": "markdown",
   "metadata": {},
   "source": [
    "<hr>\n",
    "\n",
    "## Load Modules<a class=\"anchor\" id=\"loadmodules\"></a>"
   ]
  },
  {
   "cell_type": "code",
   "execution_count": 1,
   "metadata": {},
   "outputs": [],
   "source": [
    "import pandas as pd\n",
    "import numpy as np"
   ]
  },
  {
   "cell_type": "code",
   "execution_count": 5,
   "metadata": {},
   "outputs": [],
   "source": [
    "pd.options.display.max_columns = None"
   ]
  },
  {
   "cell_type": "markdown",
   "metadata": {},
   "source": [
    "<hr>\n",
    "\n",
    "### Load Datasets<a class=\"anchor\" id=\"loaddatasets\"></a>"
   ]
  },
  {
   "cell_type": "markdown",
   "metadata": {},
   "source": [
    "### Race Dataset<a class=\"anchor\" id=\"racedataset\"></a>"
   ]
  },
  {
   "cell_type": "code",
   "execution_count": 6,
   "metadata": {},
   "outputs": [],
   "source": [
    "race_dataset = pd.read_csv('../Aidan/race_clean.csv')"
   ]
  },
  {
   "cell_type": "markdown",
   "metadata": {},
   "source": [
    "### Spoken Language at Home Dataset<a class=\"anchor\" id=\"languagedataset\"></a>"
   ]
  },
  {
   "cell_type": "code",
   "execution_count": 10,
   "metadata": {},
   "outputs": [],
   "source": [
    "language_dataset = pd.read_csv('../Ariel/spoken_language_home.csv')"
   ]
  },
  {
   "cell_type": "code",
   "execution_count": 41,
   "metadata": {},
   "outputs": [],
   "source": [
    "# including only relevant columns\n",
    "language_dataset = language_dataset[['county',\n",
    " 'percent_speak_only_english',\n",
    " 'percent_speak_other_language_spanish',\n",
    " 'percent_speak_other_language_other',\n",
    " 'percent_speak_english_very_well',\n",
    " 'percent_speak_english_not_very_well']]\n",
    "#  'total_speak_only_english', 'total_speak_other_language_spanish', 'total_speak_other_language_other',"
   ]
  },
  {
   "cell_type": "code",
   "execution_count": 44,
   "metadata": {},
   "outputs": [],
   "source": [
    "# rename columns header\n",
    "language_dataset.columns=['county',\n",
    "                          'percent_english',\n",
    "                          'percent_spanish',\n",
    "                          'percent_other',\n",
    "                          'percent_english_very_well',\n",
    "                          'percent_english_not_very_well']"
   ]
  },
  {
   "cell_type": "markdown",
   "metadata": {},
   "source": [
    "### Median Earnings Dataset<a class=\"anchor\" id=\"earningsdataset\"></a>"
   ]
  },
  {
   "cell_type": "code",
   "execution_count": 14,
   "metadata": {},
   "outputs": [],
   "source": [
    "earnings_dataset = pd.read_csv('../Khamanna/median_earnings.csv', usecols=['county','median_earnings'])"
   ]
  },
  {
   "cell_type": "markdown",
   "metadata": {},
   "source": [
    "### Education Dataset<a class=\"anchor\" id=\"educationdataset\"></a>"
   ]
  },
  {
   "cell_type": "code",
   "execution_count": 27,
   "metadata": {},
   "outputs": [],
   "source": [
    "education_dataset = pd.read_csv('../Khamanna/education_num_percentage.csv')"
   ]
  },
  {
   "cell_type": "code",
   "execution_count": 32,
   "metadata": {},
   "outputs": [],
   "source": [
    "education_dataset.drop(columns='Unnamed: 0', axis=1, inplace=True)"
   ]
  },
  {
   "cell_type": "markdown",
   "metadata": {},
   "source": [
    "<hr>\n",
    "\n",
    "## Merge Datasets<a class=\"anchor\" id=\"mergedatasets\"></a>\n",
    "*Missing ballots dataset"
   ]
  },
  {
   "cell_type": "markdown",
   "metadata": {},
   "source": [
    "### Merge<a class=\"anchor\" id=\"merge\"></a>"
   ]
  },
  {
   "cell_type": "code",
   "execution_count": 46,
   "metadata": {},
   "outputs": [],
   "source": [
    "main_dataset = race_dataset.merge(language_dataset, left_on=\"County\", right_on=\"county\")"
   ]
  },
  {
   "cell_type": "code",
   "execution_count": 47,
   "metadata": {},
   "outputs": [],
   "source": [
    "main_dataset.drop(columns='county',axis=1,inplace=True)"
   ]
  },
  {
   "cell_type": "code",
   "execution_count": 51,
   "metadata": {},
   "outputs": [],
   "source": [
    "main_dataset = main_dataset.merge(earnings_dataset, left_on=\"County\", right_on=\"county\")"
   ]
  },
  {
   "cell_type": "code",
   "execution_count": 52,
   "metadata": {},
   "outputs": [],
   "source": [
    "main_dataset.drop(columns='county',axis=1,inplace=True)"
   ]
  },
  {
   "cell_type": "code",
   "execution_count": 57,
   "metadata": {},
   "outputs": [],
   "source": [
    "main_dataset = main_dataset.merge(education_dataset, left_on=\"County\", right_on=\"county\")\n",
    "main_dataset.drop(columns='county',axis=1,inplace=True)"
   ]
  },
  {
   "cell_type": "markdown",
   "metadata": {},
   "source": [
    "### Write CSV File<a class=\"anchor\" id=\"writecsv\"></a>"
   ]
  },
  {
   "cell_type": "code",
   "execution_count": 59,
   "metadata": {},
   "outputs": [],
   "source": [
    "# Write to csv\n",
    "main_dataset.to_csv('demographic_dataset.csv')"
   ]
  }
 ],
 "metadata": {
  "hide_input": false,
  "kernelspec": {
   "display_name": "Python 3",
   "language": "python",
   "name": "python3"
  },
  "language_info": {
   "codemirror_mode": {
    "name": "ipython",
    "version": 3
   },
   "file_extension": ".py",
   "mimetype": "text/x-python",
   "name": "python",
   "nbconvert_exporter": "python",
   "pygments_lexer": "ipython3",
   "version": "3.8.3"
  }
 },
 "nbformat": 4,
 "nbformat_minor": 2
}
