{
 "cells": [
  {
   "cell_type": "markdown",
   "metadata": {},
   "source": [
    "# Exploratory Data Analysis Ballots Data"
   ]
  },
  {
   "cell_type": "markdown",
   "metadata": {},
   "source": [
    "# Table of Contents\n",
    "\n",
    "* [Load Modules](#setup)\n",
    "* [Load Data](#loaddata)\n",
    "* [Data Cleaning](#datacleaning)\n",
    " * [Remove Columns with Personal Identifying Information](#removepii)\n",
    " * [Duplicate Rows](#duprows)\n",
    " * [Remove Ballots With Status NaN](#ballotsstatusnan)\n",
    " * [Duplicate Voter Id Records](#dupvoterid)\n",
    " * [Final Ballots Dataset](#finaldataset)\n",
    " * [Write Dataset to CSV File](#writecsv)\n",
    "* [Exploratory Data Analysis](#eda)\n",
    " * [Ballots Status](#ballotsstatus)\n",
    " * [Rejected Ballots](#ballotsrejected)\n",
    "* [Hypothesis Testing (experimental)](#hypothesistesting)\n",
    " * [Party Affiliation vs Ballots Rejected](#partyvsrejected)"
   ]
  },
  {
   "cell_type": "markdown",
   "metadata": {},
   "source": [
    "<hr>\n",
    "\n",
    "## Load Modules<a class=\"anchor\" id=\"setup\"></a>"
   ]
  },
  {
   "cell_type": "code",
   "execution_count": 1,
   "metadata": {},
   "outputs": [],
   "source": [
    "import pandas as pd\n",
    "import numpy as np\n",
    "import matplotlib.pyplot as plt\n",
    "import seaborn as sns\n",
    "from scipy.stats import chi2_contingency\n",
    "\n",
    "pd.set_option('display.max_rows', 100)\n",
    "pd.set_option('display.max_columns', None)"
   ]
  },
  {
   "cell_type": "markdown",
   "metadata": {},
   "source": [
    "<hr>\n",
    "\n",
    "## Load Data<a  class=\"anchor\" id=\"loaddata\"></a>"
   ]
  },
  {
   "cell_type": "code",
   "execution_count": 2,
   "metadata": {},
   "outputs": [
    {
     "name": "stderr",
     "output_type": "stream",
     "text": [
      "/opt/anaconda3/lib/python3.8/site-packages/IPython/core/interactiveshell.py:3071: DtypeWarning: Columns (2,15,30,32,33,41,43) have mixed types.Specify dtype option on import or set low_memory=False.\n",
      "  has_raised = await self.run_ast_nodes(code_ast.body, cell_name,\n"
     ]
    }
   ],
   "source": [
    "ballots_dataset = pd.read_csv('../../../vbm12.6.20.csv')"
   ]
  },
  {
   "cell_type": "markdown",
   "metadata": {},
   "source": [
    "<hr>\n",
    "\n",
    "## Data Cleaning<a class=\"anchor\" id=\"datacleaning\"></a>"
   ]
  },
  {
   "cell_type": "markdown",
   "metadata": {},
   "source": [
    "### Remove Columns with Personal Identifying Information<a class=\"anchor\" id=\"removepii\"></a>"
   ]
  },
  {
   "cell_type": "code",
   "execution_count": 3,
   "metadata": {},
   "outputs": [],
   "source": [
    "ballots_dataset.drop(columns=['voter_lastName', 'voter_firstName', 'voter_middleName', 'voter_suffix',\n",
    "'ballot_addr_address1', 'ballot_addr_address2', 'ballot_addr_address3','ballot_addr_zipcode',\n",
    "'voter_resAddr_address1', 'voter_resAddr_address2','voter_resAddr_address3',\n",
    "'voter_resAddr_zipcode', 'voter_phone', 'voter_email'], axis=1, inplace=True)"
   ]
  },
  {
   "cell_type": "markdown",
   "metadata": {},
   "source": [
    "### Remove Duplicate Rows<a class=\"anchor\" id=\"duprows\"></a>"
   ]
  },
  {
   "cell_type": "code",
   "execution_count": 4,
   "metadata": {},
   "outputs": [],
   "source": [
    "# Remove Duplicate Rows\n",
    "ballots_dataset.drop_duplicates(inplace=True)"
   ]
  },
  {
   "cell_type": "markdown",
   "metadata": {},
   "source": [
    "### Remove Ballots With Status NaN<a class=\"anchor\" id=\"ballotsstatusnan\"></a>"
   ]
  },
  {
   "cell_type": "code",
   "execution_count": 5,
   "metadata": {},
   "outputs": [],
   "source": [
    "ballots_dataset = ballots_dataset[ballots_dataset['ballot_status'].notna()].reset_index(drop=True)"
   ]
  },
  {
   "cell_type": "code",
   "execution_count": 6,
   "metadata": {},
   "outputs": [
    {
     "data": {
      "text/plain": [
       "(4370938, 30)"
      ]
     },
     "execution_count": 6,
     "metadata": {},
     "output_type": "execute_result"
    }
   ],
   "source": [
    "ballots_dataset.shape"
   ]
  },
  {
   "cell_type": "markdown",
   "metadata": {},
   "source": [
    "### Voter Id Duplicate Records<a class=\"anchor\" id=\"dupvoterid\"></a>"
   ]
  },
  {
   "cell_type": "code",
   "execution_count": 7,
   "metadata": {},
   "outputs": [
    {
     "data": {
      "text/html": [
       "<div>\n",
       "<style scoped>\n",
       "    .dataframe tbody tr th:only-of-type {\n",
       "        vertical-align: middle;\n",
       "    }\n",
       "\n",
       "    .dataframe tbody tr th {\n",
       "        vertical-align: top;\n",
       "    }\n",
       "\n",
       "    .dataframe thead th {\n",
       "        text-align: right;\n",
       "    }\n",
       "</style>\n",
       "<table border=\"1\" class=\"dataframe\">\n",
       "  <thead>\n",
       "    <tr style=\"text-align: right;\">\n",
       "      <th></th>\n",
       "      <th>current_county</th>\n",
       "      <th>current_municipality</th>\n",
       "      <th>current_ward</th>\n",
       "      <th>current_district</th>\n",
       "      <th>ballot_requestType</th>\n",
       "      <th>voter_id</th>\n",
       "      <th>voter_party</th>\n",
       "      <th>voter_status</th>\n",
       "      <th>ballot_type</th>\n",
       "      <th>ballot_county</th>\n",
       "      <th>ballot_municipality</th>\n",
       "      <th>ballot_ward</th>\n",
       "      <th>ballot_district</th>\n",
       "      <th>ballot_vtr_party</th>\n",
       "      <th>ballot_addr_city</th>\n",
       "      <th>ballot_addr_state</th>\n",
       "      <th>ballot_addr_country</th>\n",
       "      <th>application_receivedDate</th>\n",
       "      <th>application_processedDate</th>\n",
       "      <th>application_status</th>\n",
       "      <th>ballot_mailedDate</th>\n",
       "      <th>ballot_receivedDate</th>\n",
       "      <th>ballot_countedDate</th>\n",
       "      <th>ballot_status</th>\n",
       "      <th>received_rejReason</th>\n",
       "      <th>voter_resAddr_num</th>\n",
       "      <th>voter_resAddr_street</th>\n",
       "      <th>voter_resAddr_city</th>\n",
       "      <th>voter_resAddr_state</th>\n",
       "      <th>received_bearer</th>\n",
       "    </tr>\n",
       "  </thead>\n",
       "  <tbody>\n",
       "    <tr>\n",
       "      <th>1027609</th>\n",
       "      <td>Camden</td>\n",
       "      <td>Lindenwold Borough</td>\n",
       "      <td>0</td>\n",
       "      <td>7.0</td>\n",
       "      <td>Single Election</td>\n",
       "      <td>O6429403939</td>\n",
       "      <td>Unaffiliated</td>\n",
       "      <td>Active</td>\n",
       "      <td>Regular</td>\n",
       "      <td>Camden</td>\n",
       "      <td>Lindenwold Borough</td>\n",
       "      <td>0</td>\n",
       "      <td>7</td>\n",
       "      <td>Unaffiliated</td>\n",
       "      <td>LINDENWOLD</td>\n",
       "      <td>NJ</td>\n",
       "      <td>US</td>\n",
       "      <td>09/23/2020</td>\n",
       "      <td>09/23/2020</td>\n",
       "      <td>Accepted</td>\n",
       "      <td>09/28/2020</td>\n",
       "      <td>10/17/2020</td>\n",
       "      <td>11/19/2020</td>\n",
       "      <td>Rejected</td>\n",
       "      <td>Certificate Not Signed</td>\n",
       "      <td>101</td>\n",
       "      <td>E GIBBSBORO RD</td>\n",
       "      <td>LINDENWOLD</td>\n",
       "      <td>NJ</td>\n",
       "      <td>NaN</td>\n",
       "    </tr>\n",
       "    <tr>\n",
       "      <th>1027610</th>\n",
       "      <td>Camden</td>\n",
       "      <td>Lindenwold Borough</td>\n",
       "      <td>0</td>\n",
       "      <td>7.0</td>\n",
       "      <td>Single Election</td>\n",
       "      <td>O6429403939</td>\n",
       "      <td>Unaffiliated</td>\n",
       "      <td>Active</td>\n",
       "      <td>Regular</td>\n",
       "      <td>Camden</td>\n",
       "      <td>Lindenwold Borough</td>\n",
       "      <td>0</td>\n",
       "      <td>7</td>\n",
       "      <td>Unaffiliated</td>\n",
       "      <td>LINDENWOLD</td>\n",
       "      <td>NJ</td>\n",
       "      <td>US</td>\n",
       "      <td>09/23/2020</td>\n",
       "      <td>09/23/2020</td>\n",
       "      <td>Accepted</td>\n",
       "      <td>09/28/2020</td>\n",
       "      <td>10/17/2020</td>\n",
       "      <td>11/19/2020</td>\n",
       "      <td>Accepted</td>\n",
       "      <td>NaN</td>\n",
       "      <td>101</td>\n",
       "      <td>E GIBBSBORO RD</td>\n",
       "      <td>LINDENWOLD</td>\n",
       "      <td>NJ</td>\n",
       "      <td>NaN</td>\n",
       "    </tr>\n",
       "    <tr>\n",
       "      <th>4080363</th>\n",
       "      <td>Union</td>\n",
       "      <td>Clark Township</td>\n",
       "      <td>2</td>\n",
       "      <td>4.0</td>\n",
       "      <td>Single Election</td>\n",
       "      <td>B4484851749</td>\n",
       "      <td>Republican</td>\n",
       "      <td>Active</td>\n",
       "      <td>Regular</td>\n",
       "      <td>Union</td>\n",
       "      <td>Clark Township</td>\n",
       "      <td>2</td>\n",
       "      <td>4</td>\n",
       "      <td>Republican</td>\n",
       "      <td>Clark</td>\n",
       "      <td>NJ</td>\n",
       "      <td>NaN</td>\n",
       "      <td>08/14/2020</td>\n",
       "      <td>08/31/2020</td>\n",
       "      <td>Accepted</td>\n",
       "      <td>09/15/2020</td>\n",
       "      <td>10/27/2020</td>\n",
       "      <td>11/20/2020</td>\n",
       "      <td>Accepted</td>\n",
       "      <td>NaN</td>\n",
       "      <td>75</td>\n",
       "      <td>Victoria Dr</td>\n",
       "      <td>Clark</td>\n",
       "      <td>NJ</td>\n",
       "      <td>CHRISTOPHER PANDOLFO</td>\n",
       "    </tr>\n",
       "    <tr>\n",
       "      <th>4080364</th>\n",
       "      <td>Union</td>\n",
       "      <td>Clark Township</td>\n",
       "      <td>2</td>\n",
       "      <td>4.0</td>\n",
       "      <td>Single Election</td>\n",
       "      <td>B4484851749</td>\n",
       "      <td>Republican</td>\n",
       "      <td>Active</td>\n",
       "      <td>Regular</td>\n",
       "      <td>Union</td>\n",
       "      <td>Clark Township</td>\n",
       "      <td>2</td>\n",
       "      <td>4</td>\n",
       "      <td>Republican</td>\n",
       "      <td>Clark</td>\n",
       "      <td>NJ</td>\n",
       "      <td>NaN</td>\n",
       "      <td>08/14/2020</td>\n",
       "      <td>08/31/2020</td>\n",
       "      <td>Accepted</td>\n",
       "      <td>09/15/2020</td>\n",
       "      <td>10/27/2020</td>\n",
       "      <td>11/20/2020</td>\n",
       "      <td>Accepted</td>\n",
       "      <td>NaN</td>\n",
       "      <td>75</td>\n",
       "      <td>Victoria Dr</td>\n",
       "      <td>Clark</td>\n",
       "      <td>NJ</td>\n",
       "      <td>NaN</td>\n",
       "    </tr>\n",
       "    <tr>\n",
       "      <th>4160513</th>\n",
       "      <td>Union</td>\n",
       "      <td>Linden City</td>\n",
       "      <td>6</td>\n",
       "      <td>2.0</td>\n",
       "      <td>Single Election</td>\n",
       "      <td>A4579251725</td>\n",
       "      <td>Democratic</td>\n",
       "      <td>Active</td>\n",
       "      <td>Regular</td>\n",
       "      <td>Union</td>\n",
       "      <td>Linden City</td>\n",
       "      <td>6</td>\n",
       "      <td>2</td>\n",
       "      <td>Democratic</td>\n",
       "      <td>Linden</td>\n",
       "      <td>NJ</td>\n",
       "      <td>NaN</td>\n",
       "      <td>08/14/2020</td>\n",
       "      <td>08/31/2020</td>\n",
       "      <td>Accepted</td>\n",
       "      <td>09/22/2020</td>\n",
       "      <td>11/03/2020</td>\n",
       "      <td>11/20/2020</td>\n",
       "      <td>Rejected</td>\n",
       "      <td>Certificate Not Signed</td>\n",
       "      <td>119</td>\n",
       "      <td>E 11th St</td>\n",
       "      <td>Linden</td>\n",
       "      <td>NJ</td>\n",
       "      <td>ROY HERMAN</td>\n",
       "    </tr>\n",
       "    <tr>\n",
       "      <th>4160514</th>\n",
       "      <td>Union</td>\n",
       "      <td>Linden City</td>\n",
       "      <td>6</td>\n",
       "      <td>2.0</td>\n",
       "      <td>Single Election</td>\n",
       "      <td>A4579251725</td>\n",
       "      <td>Democratic</td>\n",
       "      <td>Active</td>\n",
       "      <td>Regular</td>\n",
       "      <td>Union</td>\n",
       "      <td>Linden City</td>\n",
       "      <td>6</td>\n",
       "      <td>2</td>\n",
       "      <td>Democratic</td>\n",
       "      <td>Linden</td>\n",
       "      <td>NJ</td>\n",
       "      <td>NaN</td>\n",
       "      <td>08/14/2020</td>\n",
       "      <td>08/31/2020</td>\n",
       "      <td>Accepted</td>\n",
       "      <td>09/22/2020</td>\n",
       "      <td>11/03/2020</td>\n",
       "      <td>11/20/2020</td>\n",
       "      <td>Accepted</td>\n",
       "      <td>NaN</td>\n",
       "      <td>119</td>\n",
       "      <td>E 11th St</td>\n",
       "      <td>Linden</td>\n",
       "      <td>NJ</td>\n",
       "      <td>ROY HERMAN</td>\n",
       "    </tr>\n",
       "  </tbody>\n",
       "</table>\n",
       "</div>"
      ],
      "text/plain": [
       "        current_county current_municipality current_ward  current_district  \\\n",
       "1027609         Camden   Lindenwold Borough            0               7.0   \n",
       "1027610         Camden   Lindenwold Borough            0               7.0   \n",
       "4080363          Union       Clark Township            2               4.0   \n",
       "4080364          Union       Clark Township            2               4.0   \n",
       "4160513          Union          Linden City            6               2.0   \n",
       "4160514          Union          Linden City            6               2.0   \n",
       "\n",
       "        ballot_requestType     voter_id   voter_party voter_status  \\\n",
       "1027609    Single Election  O6429403939  Unaffiliated       Active   \n",
       "1027610    Single Election  O6429403939  Unaffiliated       Active   \n",
       "4080363    Single Election  B4484851749    Republican       Active   \n",
       "4080364    Single Election  B4484851749    Republican       Active   \n",
       "4160513    Single Election  A4579251725    Democratic       Active   \n",
       "4160514    Single Election  A4579251725    Democratic       Active   \n",
       "\n",
       "        ballot_type ballot_county ballot_municipality ballot_ward  \\\n",
       "1027609     Regular        Camden  Lindenwold Borough           0   \n",
       "1027610     Regular        Camden  Lindenwold Borough           0   \n",
       "4080363     Regular         Union      Clark Township           2   \n",
       "4080364     Regular         Union      Clark Township           2   \n",
       "4160513     Regular         Union         Linden City           6   \n",
       "4160514     Regular         Union         Linden City           6   \n",
       "\n",
       "         ballot_district ballot_vtr_party ballot_addr_city ballot_addr_state  \\\n",
       "1027609                7     Unaffiliated       LINDENWOLD                NJ   \n",
       "1027610                7     Unaffiliated       LINDENWOLD                NJ   \n",
       "4080363                4       Republican            Clark                NJ   \n",
       "4080364                4       Republican            Clark                NJ   \n",
       "4160513                2       Democratic           Linden                NJ   \n",
       "4160514                2       Democratic           Linden                NJ   \n",
       "\n",
       "        ballot_addr_country application_receivedDate  \\\n",
       "1027609                  US               09/23/2020   \n",
       "1027610                  US               09/23/2020   \n",
       "4080363                 NaN               08/14/2020   \n",
       "4080364                 NaN               08/14/2020   \n",
       "4160513                 NaN               08/14/2020   \n",
       "4160514                 NaN               08/14/2020   \n",
       "\n",
       "        application_processedDate application_status ballot_mailedDate  \\\n",
       "1027609                09/23/2020           Accepted        09/28/2020   \n",
       "1027610                09/23/2020           Accepted        09/28/2020   \n",
       "4080363                08/31/2020           Accepted        09/15/2020   \n",
       "4080364                08/31/2020           Accepted        09/15/2020   \n",
       "4160513                08/31/2020           Accepted        09/22/2020   \n",
       "4160514                08/31/2020           Accepted        09/22/2020   \n",
       "\n",
       "        ballot_receivedDate ballot_countedDate ballot_status  \\\n",
       "1027609          10/17/2020         11/19/2020      Rejected   \n",
       "1027610          10/17/2020         11/19/2020      Accepted   \n",
       "4080363          10/27/2020         11/20/2020      Accepted   \n",
       "4080364          10/27/2020         11/20/2020      Accepted   \n",
       "4160513          11/03/2020         11/20/2020      Rejected   \n",
       "4160514          11/03/2020         11/20/2020      Accepted   \n",
       "\n",
       "             received_rejReason voter_resAddr_num voter_resAddr_street  \\\n",
       "1027609  Certificate Not Signed               101       E GIBBSBORO RD   \n",
       "1027610                     NaN               101       E GIBBSBORO RD   \n",
       "4080363                     NaN                75          Victoria Dr   \n",
       "4080364                     NaN                75          Victoria Dr   \n",
       "4160513  Certificate Not Signed               119            E 11th St   \n",
       "4160514                     NaN               119            E 11th St   \n",
       "\n",
       "        voter_resAddr_city voter_resAddr_state       received_bearer  \n",
       "1027609         LINDENWOLD                  NJ                   NaN  \n",
       "1027610         LINDENWOLD                  NJ                   NaN  \n",
       "4080363              Clark                  NJ  CHRISTOPHER PANDOLFO  \n",
       "4080364              Clark                  NJ                   NaN  \n",
       "4160513             Linden                  NJ            ROY HERMAN  \n",
       "4160514             Linden                  NJ            ROY HERMAN  "
      ]
     },
     "execution_count": 7,
     "metadata": {},
     "output_type": "execute_result"
    }
   ],
   "source": [
    "ballots_dataset[ballots_dataset['voter_id'].duplicated(keep=False)]"
   ]
  },
  {
   "cell_type": "code",
   "execution_count": 8,
   "metadata": {},
   "outputs": [],
   "source": [
    "# Remove duplicate voter id rows (kept Accepted ballots)\n",
    "ballots_dataset.drop(index=[1027609,4160513,4080364], inplace=True)"
   ]
  },
  {
   "cell_type": "markdown",
   "metadata": {},
   "source": [
    "### Final Ballots Dataset<a class=\"anchor\" id=\"finaldataset\"></a>"
   ]
  },
  {
   "cell_type": "code",
   "execution_count": 9,
   "metadata": {},
   "outputs": [
    {
     "data": {
      "text/plain": [
       "(4370935, 30)"
      ]
     },
     "execution_count": 9,
     "metadata": {},
     "output_type": "execute_result"
    }
   ],
   "source": [
    "ballots_dataset.shape"
   ]
  },
  {
   "cell_type": "markdown",
   "metadata": {},
   "source": [
    "### Write Dataset to CSV File<a class=\"anchor\" id=\"writecsv\"></a>"
   ]
  },
  {
   "cell_type": "code",
   "execution_count": 283,
   "metadata": {},
   "outputs": [],
   "source": [
    "ballots_dataset.to_csv('./ballots_dataset.csv')"
   ]
  },
  {
   "cell_type": "markdown",
   "metadata": {},
   "source": [
    "<hr>\n",
    "\n",
    "## Exploratory Data Analysis<a class=\"anchor\" id=\"eda\"></a>"
   ]
  },
  {
   "cell_type": "markdown",
   "metadata": {},
   "source": [
    "### Ballots Status<a class=\"anchor\" id=\"ballotsstatus\"></a>"
   ]
  },
  {
   "cell_type": "code",
   "execution_count": 10,
   "metadata": {},
   "outputs": [
    {
     "data": {
      "text/html": [
       "<div>\n",
       "<style scoped>\n",
       "    .dataframe tbody tr th:only-of-type {\n",
       "        vertical-align: middle;\n",
       "    }\n",
       "\n",
       "    .dataframe tbody tr th {\n",
       "        vertical-align: top;\n",
       "    }\n",
       "\n",
       "    .dataframe thead th {\n",
       "        text-align: right;\n",
       "    }\n",
       "</style>\n",
       "<table border=\"1\" class=\"dataframe\">\n",
       "  <thead>\n",
       "    <tr style=\"text-align: right;\">\n",
       "      <th></th>\n",
       "      <th>count</th>\n",
       "    </tr>\n",
       "  </thead>\n",
       "  <tbody>\n",
       "    <tr>\n",
       "      <th>0</th>\n",
       "      <td>78.57</td>\n",
       "    </tr>\n",
       "    <tr>\n",
       "      <th>1</th>\n",
       "      <td>20.36</td>\n",
       "    </tr>\n",
       "    <tr>\n",
       "      <th>2</th>\n",
       "      <td>1.07</td>\n",
       "    </tr>\n",
       "  </tbody>\n",
       "</table>\n",
       "</div>"
      ],
      "text/plain": [
       "   count\n",
       "0  78.57\n",
       "1  20.36\n",
       "2   1.07"
      ]
     },
     "execution_count": 10,
     "metadata": {},
     "output_type": "execute_result"
    }
   ],
   "source": [
    "ballots_status = pd.DataFrame(ballots_dataset['ballot_status'].value_counts())\n",
    "ballots_status.reset_index(inplace=True)\n",
    "ballots_status.columns = ['status','count']\n",
    "ballots_status = ballots_status['count'] / ballots_status['count'].sum() * 100\n",
    "pd.DataFrame(round(ballots_status,2))"
   ]
  },
  {
   "cell_type": "code",
   "execution_count": 11,
   "metadata": {},
   "outputs": [
    {
     "data": {
      "image/png": "[encoded data removed]",
      "text/plain": [
       "<Figure size 720x576 with 1 Axes>"
      ]
     },
     "metadata": {},
     "output_type": "display_data"
    }
   ],
   "source": [
    "# Plot Rejected Ballots\n",
    "labels = ['Accepted', 'Received', 'Rejected']\n",
    "sizes = list(ballots_status)\n",
    "explode = (0.1, 0.1, 0.3)\n",
    "\n",
    "fig1, ax1 = plt.subplots(figsize=(10, 8))\n",
    "ax1.pie(sizes, explode=explode, labels=labels, autopct='%1.2f%%',\n",
    "        shadow=True, startangle=90)\n",
    "ax1.axis('equal')\n",
    "\n",
    "plt.show()"
   ]
  },
  {
   "cell_type": "markdown",
   "metadata": {},
   "source": [
    "### Ballots Rejected<a class=\"anchor\" id=\"ballotsrejected\"></a>"
   ]
  },
  {
   "cell_type": "code",
   "execution_count": 12,
   "metadata": {},
   "outputs": [],
   "source": [
    "# Number of rejected ballots\n",
    "ballots_rejected = ballots_dataset[ballots_dataset['ballot_status']=='Rejected']\n",
    "# Percentage\n",
    "ballots_rejected = pd.DataFrame(ballots_rejected['received_rejReason'].value_counts() / ballots_rejected.shape[0] * 100).reset_index()\n",
    "# Rename columns header\n",
    "ballots_rejected.columns = ['reason','count']"
   ]
  },
  {
   "cell_type": "code",
   "execution_count": 13,
   "metadata": {},
   "outputs": [
    {
     "data": {
      "image/png": "[encoded data removed]",
      "text/plain": [
       "<Figure size 720x576 with 1 Axes>"
      ]
     },
     "metadata": {},
     "output_type": "display_data"
    }
   ],
   "source": [
    "sns.set_style(\"whitegrid\")\n",
    "fig, ax = plt.subplots(figsize=(10,8))\n",
    "sns.barplot(x='count', y='reason', data=ballots_rejected, ax = ax)\n",
    "plot_var = ax.set(xlabel='Percentage (%)', ylabel='Reasons', title=\"Rejected Ballots\")\n"
   ]
  },
  {
   "cell_type": "code",
   "execution_count": 14,
   "metadata": {},
   "outputs": [],
   "source": [
    "# Combine low percentage reasons with Other\n",
    "others_percent = ballots_rejected[ballots_rejected['reason'].isin(['Ballot Not Enclosed', 'Bearer Exceeded Limit', 'Incomplete Bearer Portion',\n",
    " 'Moved Out of County', 'Incomplete Assistor Portion', 'Power of Attorney',\n",
    " 'Ineligible Voter Status', 'Both Envelopes Unsealed', 'Bearer Book Not Signed In',\n",
    " 'Primary-Voted Both Parties', 'One Envelope Unsealed', 'Candidate Provided Assistance'])]['count'].sum()"
   ]
  },
  {
   "cell_type": "code",
   "execution_count": 15,
   "metadata": {},
   "outputs": [],
   "source": [
    "ballots_rejected.loc[3,'count'] = ballots_rejected.loc[3,'count'] + others_percent"
   ]
  },
  {
   "cell_type": "code",
   "execution_count": 16,
   "metadata": {},
   "outputs": [],
   "source": [
    "ballots_rejected.drop(index=\n",
    "ballots_rejected[ballots_rejected['reason'].isin(['Ballot Not Enclosed', 'Bearer Exceeded Limit', 'Incomplete Bearer Portion',\n",
    " 'Moved Out of County', 'Incomplete Assistor Portion', 'Power of Attorney',\n",
    " 'Ineligible Voter Status', 'Both Envelopes Unsealed', 'Bearer Book Not Signed In',\n",
    " 'Primary-Voted Both Parties', 'One Envelope Unsealed', 'Candidate Provided Assistance'])].index, inplace=True)"
   ]
  },
  {
   "cell_type": "code",
   "execution_count": 17,
   "metadata": {},
   "outputs": [
    {
     "data": {
      "image/png": "[encoded data removed]",
      "text/plain": [
       "<Figure size 720x576 with 1 Axes>"
      ]
     },
     "metadata": {},
     "output_type": "display_data"
    }
   ],
   "source": [
    "sns.set_style(\"whitegrid\")\n",
    "fig, ax = plt.subplots(figsize=(10,8))\n",
    "sns.barplot(x='count', y='reason', data=ballots_rejected, ax = ax)\n",
    "plot_var = ax.set(xlabel='Percentage', ylabel='Reasons', title=\"Rejected Ballots\")"
   ]
  },
  {
   "cell_type": "markdown",
   "metadata": {},
   "source": [
    "<hr>\n",
    "\n",
    "## Hypothesis Testing<a class=\"anchor\" id=\"hypothesistesting\"></a>"
   ]
  },
  {
   "cell_type": "markdown",
   "metadata": {},
   "source": [
    "We want to determine if there is a statistical significant difference between the ballot rejection rate for republicans and democrats"
   ]
  },
  {
   "cell_type": "markdown",
   "metadata": {},
   "source": [
    "### Party Affiliation vs Ballots Rejected<a class=\"anchor\" id=\"partyvsrejected\"></a>\n",
    "\n",
    "#### Chi-square (χ2) test for independence (Pearson Chi-square test)\n",
    "<strong>Hypotheses</strong><br>\n",
    "Null hypotheses: The two categorical variables are independent (no association between the two variables) ( $H_{0}$&emsp;:&emsp;$O_{i} = E_{i}$ )<br>\n",
    "Alternative hypotheses: The two categorical variables are dependent (there is an association between the two variables) ( $H_{1}$&emsp;:&emsp;$O_{i} \\neq E_{i}$ )<br>\n",
    "<br>\n",
    "<strong>Assumptions</strong><br>\n",
    "1. The two variables are categorical (nominal) and data is randomly sampled<br>\n",
    "2. The levels of variables are mutually exclusive<br>\n",
    "3. The expected frequency count for at least 80% of the cell in a contingency table is at least 5<br>\n",
    "4. The expected frequency count should not be less than 1<br>\n",
    "5. Observations should be independent of each other<br>\n",
    "6. Observation data should be frequency counts and not percentages or transformed data<br>"
   ]
  },
  {
   "cell_type": "code",
   "execution_count": 18,
   "metadata": {},
   "outputs": [],
   "source": [
    "ballots_party = ballots_dataset[ballots_dataset['ballot_status'].isin(['Accepted','Rejected'])][['voter_id','ballot_vtr_party','ballot_status']]\n",
    "ballots_party.drop_duplicates(inplace=True)\n",
    "ballots_party.drop('voter_id', axis=1, inplace=True)"
   ]
  },
  {
   "cell_type": "code",
   "execution_count": 19,
   "metadata": {},
   "outputs": [],
   "source": [
    "data_crosstab = pd.crosstab(ballots_party['ballot_vtr_party'], ballots_party['ballot_status'], margins = False)"
   ]
  },
  {
   "cell_type": "code",
   "execution_count": 23,
   "metadata": {},
   "outputs": [],
   "source": [
    "data_crosstab = data_crosstab.loc[['Republican','Democratic'],:]"
   ]
  },
  {
   "cell_type": "code",
   "execution_count": 25,
   "metadata": {},
   "outputs": [
    {
     "data": {
      "text/html": [
       "<div>\n",
       "<style scoped>\n",
       "    .dataframe tbody tr th:only-of-type {\n",
       "        vertical-align: middle;\n",
       "    }\n",
       "\n",
       "    .dataframe tbody tr th {\n",
       "        vertical-align: top;\n",
       "    }\n",
       "\n",
       "    .dataframe thead th {\n",
       "        text-align: right;\n",
       "    }\n",
       "</style>\n",
       "<table border=\"1\" class=\"dataframe\">\n",
       "  <thead>\n",
       "    <tr style=\"text-align: right;\">\n",
       "      <th>ballot_status</th>\n",
       "      <th>Accepted</th>\n",
       "      <th>Rejected</th>\n",
       "    </tr>\n",
       "    <tr>\n",
       "      <th>ballot_vtr_party</th>\n",
       "      <th></th>\n",
       "      <th></th>\n",
       "    </tr>\n",
       "  </thead>\n",
       "  <tbody>\n",
       "    <tr>\n",
       "      <th>Republican</th>\n",
       "      <td>877020</td>\n",
       "      <td>8807</td>\n",
       "    </tr>\n",
       "    <tr>\n",
       "      <th>Democratic</th>\n",
       "      <td>1443596</td>\n",
       "      <td>17771</td>\n",
       "    </tr>\n",
       "  </tbody>\n",
       "</table>\n",
       "</div>"
      ],
      "text/plain": [
       "ballot_status     Accepted  Rejected\n",
       "ballot_vtr_party                    \n",
       "Republican          877020      8807\n",
       "Democratic         1443596     17771"
      ]
     },
     "execution_count": 25,
     "metadata": {},
     "output_type": "execute_result"
    }
   ],
   "source": [
    "data_crosstab"
   ]
  },
  {
   "cell_type": "code",
   "execution_count": 27,
   "metadata": {},
   "outputs": [
    {
     "data": {
      "text/plain": [
       "885827"
      ]
     },
     "execution_count": 27,
     "metadata": {},
     "output_type": "execute_result"
    }
   ],
   "source": [
    "877020 + 8807"
   ]
  },
  {
   "cell_type": "code",
   "execution_count": 26,
   "metadata": {},
   "outputs": [
    {
     "data": {
      "text/plain": [
       "1461367"
      ]
     },
     "execution_count": 26,
     "metadata": {},
     "output_type": "execute_result"
    }
   ],
   "source": [
    "(1443596 + 17771)"
   ]
  },
  {
   "cell_type": "code",
   "execution_count": 32,
   "metadata": {},
   "outputs": [
    {
     "data": {
      "text/plain": [
       "1.2721818820175763e-54"
      ]
     },
     "execution_count": 32,
     "metadata": {},
     "output_type": "execute_result"
    }
   ],
   "source": [
    "p"
   ]
  },
  {
   "cell_type": "code",
   "execution_count": 31,
   "metadata": {},
   "outputs": [
    {
     "name": "stdout",
     "output_type": "stream",
     "text": [
      "p-value -> 0.000  < 0.05, we reject the null hypothesis. The two categorical variables are dependent\n"
     ]
    }
   ],
   "source": [
    "g, p, dof, expctd = chi2_contingency(data_crosstab)\n",
    "print('p-value -> {0:0.3f}'.format(p), ' < 0.05, we reject the null hypothesis. The two categorical variables are dependent')"
   ]
  },
  {
   "cell_type": "markdown",
   "metadata": {},
   "source": [
    "### Hypothesis Testing for Two-Sample Proportions"
   ]
  },
  {
   "cell_type": "markdown",
   "metadata": {},
   "source": [
    "Null Hypothesis&emsp;&emsp;&emsp;&emsp;&emsp;&emsp; $H_{0}$: $p_{0} = p_{1}$<br>\n",
    "Alternative Hypothesis &emsp;&emsp;$H_{1}$: $p_{0} \\neq p_{1}$"
   ]
  },
  {
   "cell_type": "code",
   "execution_count": 33,
   "metadata": {},
   "outputs": [
    {
     "name": "stdout",
     "output_type": "stream",
     "text": [
      "P-value = 0.000  < 0.05, we reject the null hypothesis. The rejection rate is different between Democract and Republicsns\n"
     ]
    }
   ],
   "source": [
    "from statsmodels.stats.proportion import proportions_ztest\n",
    "count = np.array([17771, 8807])\n",
    "nobs = np.array([1461367, 885827])\n",
    "stat, pval = proportions_ztest(count, nobs)\n",
    "print('P-value = {0:0.3f}'.format(pval),' < 0.05, we reject the null hypothesis. The rejection rate is different between Democract and Republicsns')"
   ]
  }
 ],
 "metadata": {
  "hide_input": false,
  "kernelspec": {
   "display_name": "Python 3",
   "language": "python",
   "name": "python3"
  },
  "language_info": {
   "codemirror_mode": {
    "name": "ipython",
    "version": 3
   },
   "file_extension": ".py",
   "mimetype": "text/x-python",
   "name": "python",
   "nbconvert_exporter": "python",
   "pygments_lexer": "ipython3",
   "version": "3.8.3"
  }
 },
 "nbformat": 4,
 "nbformat_minor": 2
}
