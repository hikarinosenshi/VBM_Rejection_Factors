{
 "cells": [
  {
   "cell_type": "markdown",
   "metadata": {},
   "source": [
    "# Hypothesis Testing"
   ]
  },
  {
   "cell_type": "markdown",
   "metadata": {},
   "source": [
    "# Table of Contents\n",
    "\n",
    "* [Load Modules](#setup)\n",
    "* [Load Data](#loaddata)\n",
    "* [Hypothesis Testing](#hypothesistesting)\n",
    " * [Chi-square Test for Independence: Party Affiliation vs Ballots Status](#partyvsrejected)\n",
    " * [Hypothesis Testing for Two-Sample Proportions](#proportions)\n",
    " * [Mail-in Ballot Rejected Rate vs Party<a class=\"anchor\" id=\"partyrejectionprop\"></a>\n"
   ]
  },
  {
   "cell_type": "markdown",
   "metadata": {},
   "source": [
    "<hr style=\"height:2px;border-width:0;color:gray;background-color:gray\">\n",
    "\n",
    "## Load Modules<a class=\"anchor\" id=\"setup\"></a>"
   ]
  },
  {
   "cell_type": "code",
   "execution_count": 2,
   "metadata": {},
   "outputs": [],
   "source": [
    "import pandas as pd\n",
    "import numpy as np\n",
    "import matplotlib.pyplot as plt\n",
    "import matplotlib as mpl\n",
    "import seaborn as sns\n",
    "from scipy.stats import chi2_contingency\n",
    "\n",
    "mpl.rcParams['font.size'] = 12.0\n",
    "pd.set_option('display.max_rows', 100)\n",
    "pd.set_option('display.max_columns', None)"
   ]
  },
  {
   "cell_type": "markdown",
   "metadata": {},
   "source": [
    "<hr style=\"height:2px;border-width:0;color:gray;background-color:gray\">\n",
    "\n",
    "## Load Data<a  class=\"anchor\" id=\"loaddata\"></a>"
   ]
  },
  {
   "cell_type": "code",
   "execution_count": 9,
   "metadata": {},
   "outputs": [],
   "source": [
    "ballots_dataset = pd.read_csv('./clean_VBM_before_separation.csv')\n",
    "ballots_dataset.drop(columns='Unnamed: 0', inplace=True)"
   ]
  },
  {
   "cell_type": "code",
   "execution_count": 17,
   "metadata": {},
   "outputs": [],
   "source": [
    "# replace group received ballots under accepted ballots\n",
    "ballots_dataset.ballot_status = ballots_dataset.ballot_status.str.replace('Received','Accepted')"
   ]
  },
  {
   "cell_type": "markdown",
   "metadata": {},
   "source": [
    "<hr style=\"height:2px;border-width:0;color:gray;background-color:gray\">\n",
    "\n",
    "## Hypothesis Testing<a class=\"anchor\" id=\"hypothesistesting\"></a>"
   ]
  },
  {
   "cell_type": "markdown",
   "metadata": {},
   "source": [
    "<hr style=\"height:1px;width:100px;text-align:left;margin-left:0\">\n",
    "\n",
    "### Chi-square Test for Independence: Party Affiliation vs Ballots Status<a class=\"anchor\" id=\"partyvsrejected\"></a>\n",
    "\n",
    "#### Chi-square (χ2) test for independence (Pearson Chi-square test)\n",
    "<strong>Hypotheses</strong><br>\n",
    "Null hypotheses: The two categorical variables are independent (no association between the two variables) ( $H_{0}$&emsp;:&emsp;$O_{i} = E_{i}$ )<br>\n",
    "Alternative hypotheses: The two categorical variables are not independent (there is an association between the two variables) ( $H_{1}$&emsp;:&emsp;$O_{i} \\neq E_{i}$ )<br>\n",
    "<br>\n",
    "<strong>Assumptions</strong><br>\n",
    "1. The two variables are categorical (nominal) and data is randomly sampled<br>\n",
    "2. The levels of variables are mutually exclusive<br>\n",
    "3. The expected frequency count for at least 80% of the cell in a contingency table is at least 5<br>\n",
    "4. The expected frequency count should not be less than 1<br>\n",
    "5. Observations should be independent of each other<br>\n",
    "6. Observation data should be frequency counts and not percentages or transformed data<br>"
   ]
  },
  {
   "cell_type": "code",
   "execution_count": 63,
   "metadata": {},
   "outputs": [
    {
     "data": {
      "text/html": [
       "<div>\n",
       "<style scoped>\n",
       "    .dataframe tbody tr th:only-of-type {\n",
       "        vertical-align: middle;\n",
       "    }\n",
       "\n",
       "    .dataframe tbody tr th {\n",
       "        vertical-align: top;\n",
       "    }\n",
       "\n",
       "    .dataframe thead th {\n",
       "        text-align: right;\n",
       "    }\n",
       "</style>\n",
       "<table border=\"1\" class=\"dataframe\">\n",
       "  <thead>\n",
       "    <tr style=\"text-align: right;\">\n",
       "      <th>ballot_vtr_party</th>\n",
       "      <th>Conservative Party</th>\n",
       "      <th>Democratic</th>\n",
       "      <th>Green Party</th>\n",
       "      <th>Libertarian</th>\n",
       "      <th>Natural Law Party</th>\n",
       "      <th>Reform Party</th>\n",
       "      <th>Republican</th>\n",
       "      <th>Socialist Party</th>\n",
       "      <th>U.S. Constitution Party</th>\n",
       "      <th>Unaffiliated</th>\n",
       "    </tr>\n",
       "    <tr>\n",
       "      <th>ballot_status</th>\n",
       "      <th></th>\n",
       "      <th></th>\n",
       "      <th></th>\n",
       "      <th></th>\n",
       "      <th></th>\n",
       "      <th></th>\n",
       "      <th></th>\n",
       "      <th></th>\n",
       "      <th></th>\n",
       "      <th></th>\n",
       "    </tr>\n",
       "  </thead>\n",
       "  <tbody>\n",
       "    <tr>\n",
       "      <th>Accepted</th>\n",
       "      <td>8142</td>\n",
       "      <td>1777234</td>\n",
       "      <td>5594</td>\n",
       "      <td>10199</td>\n",
       "      <td>2743</td>\n",
       "      <td>825</td>\n",
       "      <td>1109512</td>\n",
       "      <td>3032</td>\n",
       "      <td>7364</td>\n",
       "      <td>1393159</td>\n",
       "    </tr>\n",
       "    <tr>\n",
       "      <th>Rejected</th>\n",
       "      <td>224</td>\n",
       "      <td>18376</td>\n",
       "      <td>133</td>\n",
       "      <td>224</td>\n",
       "      <td>95</td>\n",
       "      <td>32</td>\n",
       "      <td>10178</td>\n",
       "      <td>103</td>\n",
       "      <td>240</td>\n",
       "      <td>20927</td>\n",
       "    </tr>\n",
       "  </tbody>\n",
       "</table>\n",
       "</div>"
      ],
      "text/plain": [
       "ballot_vtr_party  Conservative Party  Democratic  Green Party  Libertarian  \\\n",
       "ballot_status                                                                \n",
       "Accepted                        8142     1777234         5594        10199   \n",
       "Rejected                         224       18376          133          224   \n",
       "\n",
       "ballot_vtr_party  Natural Law Party  Reform Party  Republican  \\\n",
       "ballot_status                                                   \n",
       "Accepted                       2743           825     1109512   \n",
       "Rejected                         95            32       10178   \n",
       "\n",
       "ballot_vtr_party  Socialist Party  U.S. Constitution Party  Unaffiliated  \n",
       "ballot_status                                                             \n",
       "Accepted                     3032                     7364       1393159  \n",
       "Rejected                      103                      240         20927  "
      ]
     },
     "execution_count": 63,
     "metadata": {},
     "output_type": "execute_result"
    }
   ],
   "source": [
    "# create crosstab table\n",
    "data_crosstab = pd.crosstab(ballots_dataset['ballot_vtr_party'], ballots_dataset['ballot_status'], margins = False)\n",
    "data_crosstab.T"
   ]
  },
  {
   "cell_type": "code",
   "execution_count": 55,
   "metadata": {},
   "outputs": [
    {
     "name": "stdout",
     "output_type": "stream",
     "text": [
      "p-value -> 0.0  < 0.05, we reject the null hypothesis. The two categorical variables are dependent.\n"
     ]
    }
   ],
   "source": [
    "# chi-square test for independence\n",
    "g, p, dof, expctd = chi2_contingency(data_crosstab)\n",
    "print('p-value -> {}'.format(p), ' < 0.05, we reject the null hypothesis. The two categorical variables are dependent.')"
   ]
  },
  {
   "cell_type": "markdown",
   "metadata": {},
   "source": [
    "This means that party affiliation does affect the ballot rejection rate, indicating the ballots rejection rate for each party are statistically signicant."
   ]
  },
  {
   "cell_type": "markdown",
   "metadata": {},
   "source": [
    "<hr style=\"height:1px;width:100px;text-align:left;margin-left:0\">\n",
    "\n",
    "### Hypothesis Testing for Two-Sample Proportions: Democracts vs Republicans<a class=\"anchor\" id=\"proportions\"></a>"
   ]
  },
  {
   "cell_type": "markdown",
   "metadata": {},
   "source": [
    "Assumptions:<br>\n",
    "* The data are simple random values from both the populations\n",
    "* Both populations follows a binomial distribution\n",
    "* When both mean (np) and variance( n(1-p)) values are greater than 10, the binomial distribution can be approximated by the normal distribution\n",
    "<br><br>\n",
    "Null Hypothesis&emsp;&emsp;&emsp;&emsp;&emsp;&emsp; $H_{0}$: $p_{0} = p_{1}$<br>\n",
    "Alternative Hypothesis &emsp;&emsp;$H_{1}$: $p_{0} \\neq p_{1}$"
   ]
  },
  {
   "cell_type": "code",
   "execution_count": 58,
   "metadata": {},
   "outputs": [
    {
     "name": "stdout",
     "output_type": "stream",
     "text": [
      "P-value = 5.140129872709784e-22  < 0.05, we reject the null hypothesis.\n",
      "This means that the probability the ballot is rejected depends if the voter is a Democrats or Republicans, \n",
      "that is, it is not the same for both parties.\n"
     ]
    }
   ],
   "source": [
    "from statsmodels.stats.proportion import proportions_ztest, proportions_chisquare\n",
    "import scipy.stats as stats\n",
    "count = np.array([data_crosstab.loc['Democratic','Rejected'], data_crosstab.loc['Republican','Rejected']])\n",
    "nobs = np.array([data_crosstab.loc['Democratic',:].sum(), data_crosstab.loc['Republican',:].sum()])\n",
    "stat, pval = proportions_ztest(count, nobs)\n",
    "chi2stat, p_value, expected_table = proportions_chisquare(count, nobs)\n",
    "print('P-value = {}'.format(pval),' < 0.05, we reject the null hypothesis.\\n\\\n",
    "This means that the probability the ballot is rejected depends if the voter is a Democrats or Republicans, \\nthat is, it is not the same for both parties.')"
   ]
  },
  {
   "cell_type": "code",
   "execution_count": 62,
   "metadata": {},
   "outputs": [
    {
     "data": {
      "text/plain": [
       "(array([[  18376, 1777234],\n",
       "        [  10178, 1109512]]),\n",
       " array([[  17587.16013446, 1778022.83986554],\n",
       "        [  10966.83986554, 1108723.16013446]]))"
      ]
     },
     "execution_count": 62,
     "metadata": {},
     "output_type": "execute_result"
    }
   ],
   "source": [
    "expected_table"
   ]
  },
  {
   "cell_type": "markdown",
   "metadata": {},
   "source": [
    "<hr style=\"height:1px;width:100px;text-align:left;margin-left:0\">\n",
    "\n",
    "### Mail-in Ballot Rejected Rate vs Party<a class=\"anchor\" id=\"partyrejectionprop\"></a>"
   ]
  },
  {
   "cell_type": "code",
   "execution_count": 61,
   "metadata": {},
   "outputs": [
    {
     "data": {
      "image/png": "[encoded data removed]",
      "text/plain": [
       "<Figure size 1152x576 with 1 Axes>"
      ]
     },
     "metadata": {},
     "output_type": "display_data"
    }
   ],
   "source": [
    "sns.set_style(\"whitegrid\")\n",
    "fig, ax = plt.subplots(figsize=(16,8))\n",
    "sns.barplot(x=0, y='ballot_vtr_party', data=pd.DataFrame(data_crosstab['Rejected'] / data_crosstab.sum(axis=1)*100).reset_index(), color='#ff9999' ,ax = ax)\n",
    "plot_var = ax.set(xlabel='Voter Party', ylabel='Percentage(%)', title=\"Percentage of Rejected Ballots\")"
   ]
  }
 ],
 "metadata": {
  "hide_input": false,
  "kernelspec": {
   "display_name": "Python 3",
   "language": "python",
   "name": "python3"
  },
  "language_info": {
   "codemirror_mode": {
    "name": "ipython",
    "version": 3
   },
   "file_extension": ".py",
   "mimetype": "text/x-python",
   "name": "python",
   "nbconvert_exporter": "python",
   "pygments_lexer": "ipython3",
   "version": "3.8.3"
  }
 },
 "nbformat": 4,
 "nbformat_minor": 2
}
